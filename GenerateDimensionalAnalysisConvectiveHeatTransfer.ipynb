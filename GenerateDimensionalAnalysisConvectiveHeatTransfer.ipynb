{
  "nbformat": 4,
  "nbformat_minor": 0,
  "metadata": {
    "colab": {
      "name": "GenerateDimensionalAnalysisConvectiveHeatTransfer.ipynb",
      "provenance": [],
      "collapsed_sections": [],
      "authorship_tag": "ABX9TyPedMRvVnHgmQGrOfH0Blgv",
      "include_colab_link": true
    },
    "kernelspec": {
      "name": "python3",
      "display_name": "Python 3"
    },
    "language_info": {
      "name": "python"
    }
  },
  "cells": [
    {
      "cell_type": "markdown",
      "metadata": {
        "id": "view-in-github",
        "colab_type": "text"
      },
      "source": [
        "<a href=\"https://colab.research.google.com/github/profteachkids/CHE3022_Fall2021/blob/main/GenerateDimensionalAnalysisConvectiveHeatTransfer.ipynb\" target=\"_parent\"><img src=\"https://colab.research.google.com/assets/colab-badge.svg\" alt=\"Open In Colab\"/></a>"
      ]
    },
    {
      "cell_type": "code",
      "metadata": {
        "id": "9d48W0xg1waR"
      },
      "source": [
        "import numpy as np\n",
        "import pandas as pd"
      ],
      "execution_count": null,
      "outputs": []
    },
    {
      "cell_type": "code",
      "metadata": {
        "id": "fiK2_hZc1xwD"
      },
      "source": [
        "# Create artificial data set\n",
        "\n",
        "Re = np.random.uniform(10e3, 1e6, 100)\n",
        "Pr =np.random.choice(np.random.uniform(0.6, 160, 8),100)\n",
        "Nu = 0.23*(Re**0.8)*(Pr**0.4)\n",
        "Nu = np.random.normal(loc=Nu, scale=0.02*Nu)\n",
        "def sigfig(x,n=3):\n",
        "    b = np.round(np.log10(x),0)\n",
        "    x = np.round(x*10**(-b),n) *(10**b)\n",
        "    return x\n",
        "\n",
        "# Use only water who viscosity is adjusted with a thickener that has minimal impact on other properties\n",
        "# And a single diameter pipe  \n",
        "rho=1000.  \n",
        "D = 0.1\n",
        "k = 0.6\n",
        "cp = 4190\n",
        "\n",
        "mu = Pr*k/cp; mu=sigfig(mu,3)\n",
        "V = Re * mu/rho/D; V=sigfig(V,3)\n",
        "h = Nu*k/D; h=sigfig(h,3)\n",
        "df = pd.DataFrame(dict(mu=mu, V=V, h=h, cp=cp, k=k, D=D, rho=rho))\n",
        "df = df.set_index(['mu','V'])\n",
        "df=df.sort_index()\n",
        "df.to_excel('DimensionalAnalysisConvectiveHeatTransfer.xlsx')"
      ],
      "execution_count": null,
      "outputs": []
    },
    {
      "cell_type": "code",
      "metadata": {
        "id": "N_QIt6U_6xNH"
      },
      "source": [
        ""
      ],
      "execution_count": null,
      "outputs": []
    }
  ]
}