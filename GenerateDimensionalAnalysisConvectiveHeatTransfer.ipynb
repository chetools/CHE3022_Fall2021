{
  "nbformat": 4,
  "nbformat_minor": 0,
  "metadata": {
    "colab": {
      "name": "GenerateDimensionalAnalysisConvectiveHeatTransfer.ipynb",
      "provenance": [],
      "collapsed_sections": [],
      "authorship_tag": "ABX9TyNDanzUlH2oSY+tbcq0Sd50",
      "include_colab_link": true
    },
    "kernelspec": {
      "name": "python3",
      "display_name": "Python 3"
    },
    "language_info": {
      "name": "python"
    }
  },
  "cells": [
    {
      "cell_type": "markdown",
      "metadata": {
        "id": "view-in-github",
        "colab_type": "text"
      },
      "source": [
        "<a href=\"https://colab.research.google.com/github/profteachkids/CHE3022_Fall2021/blob/main/GenerateDimensionalAnalysisConvectiveHeatTransfer.ipynb\" target=\"_parent\"><img src=\"https://colab.research.google.com/assets/colab-badge.svg\" alt=\"Open In Colab\"/></a>"
      ]
    },
    {
      "cell_type": "code",
      "metadata": {
        "id": "9d48W0xg1waR"
      },
      "source": [
        "import numpy as np\n",
        "import pandas as pd"
      ],
      "execution_count": 1,
      "outputs": []
    },
    {
      "cell_type": "code",
      "metadata": {
        "id": "fiK2_hZc1xwD"
      },
      "source": [
        "# Create artificial data set\n",
        "\n",
        "Re = np.random.uniform(10e3, 1e6, 100)\n",
        "Pr =np.random.choice(np.random.uniform(0.6, 160, 8),100)\n",
        "Nu = 0.23*(Re**0.8)*(Pr**0.4)\n",
        "Nu = np.random.normal(loc=Nu, scale=0.02*Nu)\n",
        "def sigfig(x,n=3):\n",
        "    b = np.round(np.log10(x),0)\n",
        "    x = np.round(x*10**(-b),n) *(10**b)\n",
        "    return x\n",
        "\n",
        "# Use only water who viscosity is adjusted with a thickener that has minimal impact on other properties\n",
        "# And a single diameter pipe  \n",
        "rho=1000.  \n",
        "D = 0.1\n",
        "k = 0.6\n",
        "cp = 4190\n",
        "\n",
        "mu = Pr*k/cp; mu=sigfig(mu,3)\n",
        "V = Re * mu/rho/D; V=sigfig(V,3)\n",
        "h = Nu*k/D; h=sigfig(h,3)\n",
        "df = pd.DataFrame(dict(mu=mu, V=V, h=h, cp=cp, k=k, D=D, rho=rho))\n",
        "df = df.set_index(['mu','V'])\n",
        "df=df.sort_index()\n",
        "df=df.reset_index()\n",
        "df.to_excel('DimensionalAnalysisConvectiveHeatTransfer.xlsx')"
      ],
      "execution_count": 11,
      "outputs": []
    },
    {
      "cell_type": "code",
      "metadata": {
        "id": "N_QIt6U_6xNH",
        "colab": {
          "base_uri": "https://localhost:8080/",
          "height": 424
        },
        "outputId": "8388ac0e-2490-4771-c81a-8220b3bbeaba"
      },
      "source": [
        "df"
      ],
      "execution_count": 12,
      "outputs": [
        {
          "output_type": "execute_result",
          "data": {
            "text/html": [
              "<div>\n",
              "<style scoped>\n",
              "    .dataframe tbody tr th:only-of-type {\n",
              "        vertical-align: middle;\n",
              "    }\n",
              "\n",
              "    .dataframe tbody tr th {\n",
              "        vertical-align: top;\n",
              "    }\n",
              "\n",
              "    .dataframe thead th {\n",
              "        text-align: right;\n",
              "    }\n",
              "</style>\n",
              "<table border=\"1\" class=\"dataframe\">\n",
              "  <thead>\n",
              "    <tr style=\"text-align: right;\">\n",
              "      <th></th>\n",
              "      <th>mu</th>\n",
              "      <th>V</th>\n",
              "      <th>h</th>\n",
              "      <th>cp</th>\n",
              "      <th>k</th>\n",
              "      <th>D</th>\n",
              "      <th>rho</th>\n",
              "    </tr>\n",
              "  </thead>\n",
              "  <tbody>\n",
              "    <tr>\n",
              "      <th>0</th>\n",
              "      <td>0.002651</td>\n",
              "      <td>2.449</td>\n",
              "      <td>42100.0</td>\n",
              "      <td>4190</td>\n",
              "      <td>0.6</td>\n",
              "      <td>0.1</td>\n",
              "      <td>1000.0</td>\n",
              "    </tr>\n",
              "    <tr>\n",
              "      <th>1</th>\n",
              "      <td>0.002651</td>\n",
              "      <td>3.105</td>\n",
              "      <td>50900.0</td>\n",
              "      <td>4190</td>\n",
              "      <td>0.6</td>\n",
              "      <td>0.1</td>\n",
              "      <td>1000.0</td>\n",
              "    </tr>\n",
              "    <tr>\n",
              "      <th>2</th>\n",
              "      <td>0.002651</td>\n",
              "      <td>3.810</td>\n",
              "      <td>62700.0</td>\n",
              "      <td>4190</td>\n",
              "      <td>0.6</td>\n",
              "      <td>0.1</td>\n",
              "      <td>1000.0</td>\n",
              "    </tr>\n",
              "    <tr>\n",
              "      <th>3</th>\n",
              "      <td>0.002651</td>\n",
              "      <td>6.520</td>\n",
              "      <td>88300.0</td>\n",
              "      <td>4190</td>\n",
              "      <td>0.6</td>\n",
              "      <td>0.1</td>\n",
              "      <td>1000.0</td>\n",
              "    </tr>\n",
              "    <tr>\n",
              "      <th>4</th>\n",
              "      <td>0.002651</td>\n",
              "      <td>8.590</td>\n",
              "      <td>109300.0</td>\n",
              "      <td>4190</td>\n",
              "      <td>0.6</td>\n",
              "      <td>0.1</td>\n",
              "      <td>1000.0</td>\n",
              "    </tr>\n",
              "    <tr>\n",
              "      <th>...</th>\n",
              "      <td>...</td>\n",
              "      <td>...</td>\n",
              "      <td>...</td>\n",
              "      <td>...</td>\n",
              "      <td>...</td>\n",
              "      <td>...</td>\n",
              "      <td>...</td>\n",
              "    </tr>\n",
              "    <tr>\n",
              "      <th>95</th>\n",
              "      <td>0.019830</td>\n",
              "      <td>123.700</td>\n",
              "      <td>430000.0</td>\n",
              "      <td>4190</td>\n",
              "      <td>0.6</td>\n",
              "      <td>0.1</td>\n",
              "      <td>1000.0</td>\n",
              "    </tr>\n",
              "    <tr>\n",
              "      <th>96</th>\n",
              "      <td>0.019830</td>\n",
              "      <td>126.000</td>\n",
              "      <td>437000.0</td>\n",
              "      <td>4190</td>\n",
              "      <td>0.6</td>\n",
              "      <td>0.1</td>\n",
              "      <td>1000.0</td>\n",
              "    </tr>\n",
              "    <tr>\n",
              "      <th>97</th>\n",
              "      <td>0.019830</td>\n",
              "      <td>172.000</td>\n",
              "      <td>548000.0</td>\n",
              "      <td>4190</td>\n",
              "      <td>0.6</td>\n",
              "      <td>0.1</td>\n",
              "      <td>1000.0</td>\n",
              "    </tr>\n",
              "    <tr>\n",
              "      <th>98</th>\n",
              "      <td>0.019830</td>\n",
              "      <td>184.500</td>\n",
              "      <td>581000.0</td>\n",
              "      <td>4190</td>\n",
              "      <td>0.6</td>\n",
              "      <td>0.1</td>\n",
              "      <td>1000.0</td>\n",
              "    </tr>\n",
              "    <tr>\n",
              "      <th>99</th>\n",
              "      <td>0.019830</td>\n",
              "      <td>195.100</td>\n",
              "      <td>633000.0</td>\n",
              "      <td>4190</td>\n",
              "      <td>0.6</td>\n",
              "      <td>0.1</td>\n",
              "      <td>1000.0</td>\n",
              "    </tr>\n",
              "  </tbody>\n",
              "</table>\n",
              "<p>100 rows × 7 columns</p>\n",
              "</div>"
            ],
            "text/plain": [
              "          mu        V         h    cp    k    D     rho\n",
              "0   0.002651    2.449   42100.0  4190  0.6  0.1  1000.0\n",
              "1   0.002651    3.105   50900.0  4190  0.6  0.1  1000.0\n",
              "2   0.002651    3.810   62700.0  4190  0.6  0.1  1000.0\n",
              "3   0.002651    6.520   88300.0  4190  0.6  0.1  1000.0\n",
              "4   0.002651    8.590  109300.0  4190  0.6  0.1  1000.0\n",
              "..       ...      ...       ...   ...  ...  ...     ...\n",
              "95  0.019830  123.700  430000.0  4190  0.6  0.1  1000.0\n",
              "96  0.019830  126.000  437000.0  4190  0.6  0.1  1000.0\n",
              "97  0.019830  172.000  548000.0  4190  0.6  0.1  1000.0\n",
              "98  0.019830  184.500  581000.0  4190  0.6  0.1  1000.0\n",
              "99  0.019830  195.100  633000.0  4190  0.6  0.1  1000.0\n",
              "\n",
              "[100 rows x 7 columns]"
            ]
          },
          "metadata": {},
          "execution_count": 12
        }
      ]
    },
    {
      "cell_type": "code",
      "metadata": {
        "id": "PgdB5CXq9-a0"
      },
      "source": [
        ""
      ],
      "execution_count": null,
      "outputs": []
    }
  ]
}