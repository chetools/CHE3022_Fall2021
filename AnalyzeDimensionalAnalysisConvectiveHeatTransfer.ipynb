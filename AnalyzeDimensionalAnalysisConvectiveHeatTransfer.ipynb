{
  "nbformat": 4,
  "nbformat_minor": 0,
  "metadata": {
    "colab": {
      "name": "AnalyzeDimensionalAnalysisConvectiveHeatTransfer.ipynb",
      "provenance": [],
      "authorship_tag": "ABX9TyMXjkRrKIaUzT10ksMhfFnk",
      "include_colab_link": true
    },
    "kernelspec": {
      "name": "python3",
      "display_name": "Python 3"
    },
    "language_info": {
      "name": "python"
    }
  },
  "cells": [
    {
      "cell_type": "markdown",
      "metadata": {
        "id": "view-in-github",
        "colab_type": "text"
      },
      "source": [
        "<a href=\"https://colab.research.google.com/github/profteachkids/CHE3022_Fall2021/blob/main/AnalyzeDimensionalAnalysisConvectiveHeatTransfer.ipynb\" target=\"_parent\"><img src=\"https://colab.research.google.com/assets/colab-badge.svg\" alt=\"Open In Colab\"/></a>"
      ]
    },
    {
      "cell_type": "code",
      "metadata": {
        "id": "R1Ed3TPy9fe_"
      },
      "source": [
        "import numpy as np\n",
        "import pandas as pd\n",
        "from scipy.optimize import minimize"
      ],
      "execution_count": 22,
      "outputs": []
    },
    {
      "cell_type": "code",
      "metadata": {
        "id": "r2AZAzwL9giF"
      },
      "source": [
        "df= pd.read_excel('DimensionalAnalysisConvectiveHeatTransfer.xlsx')\n",
        "mu, v, h, cp, k, D, rho = df.T.values"
      ],
      "execution_count": 19,
      "outputs": []
    },
    {
      "cell_type": "code",
      "metadata": {
        "id": "YO-ZcO669vK0"
      },
      "source": [
        "Re = rho*v*D/mu\n",
        "Pr = cp*mu/k\n",
        "Nu = h*D/k"
      ],
      "execution_count": 21,
      "outputs": []
    },
    {
      "cell_type": "code",
      "metadata": {
        "id": "XYVH5lww_3Jz"
      },
      "source": [
        "def sumsqerr(v):\n",
        "    a,b,c = v\n",
        "    return np.sum( (Nu - a*(Re**b)*(Pr**c))**2 )"
      ],
      "execution_count": 23,
      "outputs": []
    },
    {
      "cell_type": "code",
      "metadata": {
        "colab": {
          "base_uri": "https://localhost:8080/"
        },
        "id": "6PWLTcSMA3cK",
        "outputId": "e6ba1bc8-b379-4e07-ec91-debeb32330cd"
      },
      "source": [
        "minimize(sumsqerr, [0.2, 0.7, 0.5])"
      ],
      "execution_count": 24,
      "outputs": [
        {
          "output_type": "execute_result",
          "data": {
            "text/plain": [
              "      fun: 68655015.68748723\n",
              " hess_inv: array([[ 1.22079956e-10, -4.04712474e-11, -2.68212382e-12],\n",
              "       [-4.04712477e-11,  1.38330793e-11, -3.19441125e-13],\n",
              "       [-2.68212230e-12, -3.19441622e-13,  3.67546617e-12]])\n",
              "      jac: array([162352., 649357.,  82284.])\n",
              "  message: 'Desired error not necessarily achieved due to precision loss.'\n",
              "     nfev: 316\n",
              "      nit: 13\n",
              "     njev: 61\n",
              "   status: 2\n",
              "  success: False\n",
              "        x: array([0.22045243, 0.80247941, 0.40226792])"
            ]
          },
          "metadata": {},
          "execution_count": 24
        }
      ]
    },
    {
      "cell_type": "code",
      "metadata": {
        "id": "UEAW3SFBA_zR"
      },
      "source": [
        ""
      ],
      "execution_count": null,
      "outputs": []
    }
  ]
}