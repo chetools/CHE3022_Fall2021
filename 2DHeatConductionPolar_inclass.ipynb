{
  "nbformat": 4,
  "nbformat_minor": 0,
  "metadata": {
    "colab": {
      "name": "2DHeatConductionPolar_inclass.ipynb",
      "provenance": [],
      "collapsed_sections": [],
      "authorship_tag": "ABX9TyM58ND8SJk/kv00hgloF2Kv",
      "include_colab_link": true
    },
    "kernelspec": {
      "name": "python3",
      "display_name": "Python 3"
    },
    "language_info": {
      "name": "python"
    }
  },
  "cells": [
    {
      "cell_type": "markdown",
      "metadata": {
        "id": "view-in-github",
        "colab_type": "text"
      },
      "source": [
        "<a href=\"https://colab.research.google.com/github/profteachkids/CHE3022_Fall2021/blob/main/2DHeatConductionPolar_inclass.ipynb\" target=\"_parent\"><img src=\"https://colab.research.google.com/assets/colab-badge.svg\" alt=\"Open In Colab\"/></a>"
      ]
    },
    {
      "cell_type": "code",
      "metadata": {
        "id": "EcqH3BfSF1Ch"
      },
      "source": [
        "import numpy as np\n",
        "from scipy.optimize import newton_krylov\n",
        "from plotly.subplots import make_subplots\n",
        "import plotly.graph_objects as go\n",
        "import plotly.io as pio\n",
        "pio.templates_default='plotly_dark'"
      ],
      "execution_count": 1,
      "outputs": []
    },
    {
      "cell_type": "code",
      "metadata": {
        "id": "idQHBz6LSbMP"
      },
      "source": [
        "rinner, router = 1., 4.\n",
        "thetalo, thetahi = 0, np.pi/2\n",
        "nr, ntheta = 10, 10\n",
        "dr, dtheta = (router-rinner)/(nr-1), (thetahi-thetalo)/(ntheta-1)\n",
        "theta, r = np.mgrid[thetalo:thetahi:ntheta*1j, rinner:router:nr*1j]\n",
        "x,y = r*np.cos(theta), r*np.sin(theta)"
      ],
      "execution_count": 11,
      "outputs": []
    },
    {
      "cell_type": "code",
      "metadata": {
        "id": "aySIZ700G4hc"
      },
      "source": [
        "Tinner, Touter = 130., 150.\n",
        "Tthetalo, Tthetahi = 100., 150.\n",
        "qk = 0"
      ],
      "execution_count": 15,
      "outputs": []
    },
    {
      "cell_type": "code",
      "metadata": {
        "id": "sFCO18cSIXWI"
      },
      "source": [
        "Tguess = np.full((nr,ntheta), np.mean(np.array([Tinner, Touter, Tthetalo, Tthetahi])))\n",
        "d2r = np.zeros_like(Tguess)\n",
        "d2theta = np.zeros_like(Tguess)"
      ],
      "execution_count": 4,
      "outputs": []
    },
    {
      "cell_type": "code",
      "metadata": {
        "id": "h0zSzxn_IYN6"
      },
      "source": [
        "def hde(T):\n",
        "    d2r[1:-1, :] = ((r[1:-1,:]+dr/2)*(T[2:,:] - T[1:-1,:]) - \n",
        "                    (r[1:-1,:]-dr/2)*(T[1:-1,:] - T[:-2,:]))/dr**2\n",
        "    d2r[0,:]= ((r[0,:]+dr/2)*(T[1,:] - T[0,:]) - \n",
        "                    (r[0,:]-dr/2)*(T[0,:] - Tinner))/dr**2\n",
        "    d2r[-1,:]=((r[-1,:]+dr/2)*(Touter - T[-1,:]) - \n",
        "                    (r[-1,:]-dr/2)*(T[-1,:] - T[-2,:]))/dr**2\n",
        "\n",
        "    d2theta[:,1:-1] = (T[:,2:] - 2*T[:,1:-1] + T[:,:-2])/dtheta**2 /r[:,1:-1]\n",
        "    d2theta[:,0]=(T[:,1] - 2*T[:,0] + Tthetalo)/dtheta**2/r[:,0]\n",
        "    d2theta[:,-1]=(Tthetahi - 2*T[:,-1] + T[:,-2])/dtheta**2/r[:,-1]\n",
        "\n",
        "    return d2r+d2theta+ qk*r"
      ],
      "execution_count": 8,
      "outputs": []
    },
    {
      "cell_type": "code",
      "metadata": {
        "id": "Hbefi2ALIk8k"
      },
      "source": [
        "sol = newton_krylov(hde, Tguess)"
      ],
      "execution_count": 9,
      "outputs": []
    },
    {
      "cell_type": "code",
      "metadata": {
        "colab": {
          "base_uri": "https://localhost:8080/",
          "height": 542
        },
        "id": "nK66Rg02Lu5n",
        "outputId": "50b9ca86-e0e7-4961-e8dc-cad36da7912c"
      },
      "source": [
        "fig = make_subplots()\n",
        "fig.add_trace(go.Surface(x=x,y=y,z=sol))"
      ],
      "execution_count": 14,
      "outputs": [
        {
          "output_type": "display_data",
          "data": {
            "text/html": [
              "<html>\n",
              "<head><meta charset=\"utf-8\" /></head>\n",
              "<body>\n",
              "    <div>\n",
              "            <script src=\"https://cdnjs.cloudflare.com/ajax/libs/mathjax/2.7.5/MathJax.js?config=TeX-AMS-MML_SVG\"></script><script type=\"text/javascript\">if (window.MathJax) {MathJax.Hub.Config({SVG: {font: \"STIX-Web\"}});}</script>\n",
              "                <script type=\"text/javascript\">window.PlotlyConfig = {MathJaxConfig: 'local'};</script>\n",
              "        <script src=\"https://cdn.plot.ly/plotly-latest.min.js\"></script>    \n",
              "            <div id=\"117f2446-7a2f-45ea-be8b-25782dbed853\" class=\"plotly-graph-div\" style=\"height:525px; width:100%;\"></div>\n",
              "            <script type=\"text/javascript\">\n",
              "                \n",
              "                    window.PLOTLYENV=window.PLOTLYENV || {};\n",
              "                    \n",
              "                if (document.getElementById(\"117f2446-7a2f-45ea-be8b-25782dbed853\")) {\n",
              "                    Plotly.newPlot(\n",
              "                        '117f2446-7a2f-45ea-be8b-25782dbed853',\n",
              "                        [{\"type\": \"surface\", \"x\": [[1.0, 1.3333333333333333, 1.6666666666666665, 2.0, 2.333333333333333, 2.6666666666666665, 3.0, 3.333333333333333, 3.6666666666666665, 4.0], [0.984807753012208, 1.3130770040162774, 1.6413462550203466, 1.969615506024416, 2.297884757028485, 2.6261540080325547, 2.954423259036624, 3.282692510040693, 3.6109617610447624, 3.939231012048832], [0.9396926207859084, 1.252923494381211, 1.566154367976514, 1.8793852415718169, 2.1926161151671195, 2.505846988762422, 2.8190778623577253, 3.132308735953028, 3.4455396095483306, 3.7587704831436337], [0.8660254037844387, 1.1547005383792515, 1.4433756729740643, 1.7320508075688774, 2.0207259421636903, 2.309401076758503, 2.598076211353316, 2.8867513459481287, 3.1754264805429417, 3.464101615137755], [0.766044443118978, 1.0213925908253039, 1.2767407385316298, 1.532088886237956, 1.7874370339442818, 2.0427851816506077, 2.298133329356934, 2.5534814770632597, 2.808829624769586, 3.064177772475912], [0.6427876096865394, 0.8570501462487191, 1.0713126828108988, 1.2855752193730787, 1.4998377559352583, 1.7141002924974382, 1.9283628290596182, 2.1426253656217975, 2.3568879021839777, 2.5711504387461575], [0.5000000000000001, 0.6666666666666667, 0.8333333333333335, 1.0000000000000002, 1.1666666666666667, 1.3333333333333335, 1.5000000000000004, 1.666666666666667, 1.8333333333333337, 2.0000000000000004], [0.3420201433256688, 0.4560268577675584, 0.570033572209448, 0.6840402866513376, 0.7980470010932271, 0.9120537155351168, 1.0260604299770064, 1.140067144418896, 1.2540738588607856, 1.3680805733026753], [0.17364817766693041, 0.23153090355590722, 0.289413629444884, 0.34729635533386083, 0.4051790812228376, 0.46306180711181444, 0.5209445330007912, 0.578827258889768, 0.6367099847787449, 0.6945927106677217], [6.123233995736766e-17, 8.164311994315688e-17, 1.0205389992894609e-16, 1.2246467991473532e-16, 1.428754599005245e-16, 1.6328623988631375e-16, 1.8369701987210297e-16, 2.0410779985789218e-16, 2.245185798436814e-16, 2.4492935982947064e-16]], \"y\": [[0.0, 0.0, 0.0, 0.0, 0.0, 0.0, 0.0, 0.0, 0.0, 0.0], [0.17364817766693033, 0.2315309035559071, 0.28941362944488386, 0.34729635533386066, 0.4051790812228374, 0.4630618071118142, 0.520944533000791, 0.5788272588897677, 0.6367099847787445, 0.6945927106677213], [0.3420201433256687, 0.45602685776755825, 0.5700335722094478, 0.6840402866513374, 0.7980470010932269, 0.9120537155351165, 1.0260604299770062, 1.1400671444188957, 1.2540738588607852, 1.3680805733026749], [0.49999999999999994, 0.6666666666666665, 0.8333333333333331, 0.9999999999999999, 1.1666666666666663, 1.333333333333333, 1.4999999999999998, 1.6666666666666663, 1.833333333333333, 1.9999999999999998], [0.6427876096865393, 0.857050146248719, 1.0713126828108988, 1.2855752193730785, 1.499837755935258, 1.714100292497438, 1.9283628290596178, 2.1426253656217975, 2.3568879021839773, 2.571150438746157], [0.766044443118978, 1.0213925908253039, 1.2767407385316298, 1.532088886237956, 1.7874370339442818, 2.0427851816506077, 2.298133329356934, 2.5534814770632597, 2.808829624769586, 3.064177772475912], [0.8660254037844386, 1.1547005383792515, 1.443375672974064, 1.7320508075688772, 2.02072594216369, 2.309401076758503, 2.598076211353316, 2.886751345948128, 3.1754264805429413, 3.4641016151377544], [0.9396926207859083, 1.252923494381211, 1.5661543679765138, 1.8793852415718166, 2.192616115167119, 2.505846988762422, 2.819077862357725, 3.1323087359530275, 3.44553960954833, 3.7587704831436333], [0.984807753012208, 1.3130770040162774, 1.6413462550203466, 1.969615506024416, 2.297884757028485, 2.6261540080325547, 2.954423259036624, 3.282692510040693, 3.6109617610447624, 3.939231012048832], [1.0, 1.3333333333333333, 1.6666666666666665, 2.0, 2.333333333333333, 2.6666666666666665, 3.0, 3.333333333333333, 3.6666666666666665, 4.0]], \"z\": [[554.8926576725443, 936.6284195000834, 1233.5586743067258, 1447.2784142687356, 1584.6440527454217, 1651.9671882029165, 1650.4054894312042, 1569.9385851069405, 1377.7735970980852, 988.5265768955358], [801.3968628931171, 1422.3764811281658, 1932.7723798981413, 2318.477003061331, 2578.021782333662, 2714.4091539546016, 2725.2747881430764, 2590.2020521150885, 2249.3493963005317, 1556.6975464152808], [943.1800965391606, 1705.5647530249921, 2350.675949207108, 2854.1471773322687, 3204.8479263676704, 3398.730038937857, 3427.2440914882964, 3260.1739788411355, 2817.5909595957173, 1915.6864214910577], [1011.345057390917, 1843.4071460783414, 2558.6491434486934, 3128.308068086686, 3535.0442763880005, 3768.651111597906, 3814.6277300925544, 3635.0173588274056, 3136.7783367921056, 2114.9980966810836], [1022.1968228637945, 1867.3758985931288, 2599.568194114601, 3189.7374699431266, 3618.360517267918, 3871.907989467904, 3932.059687728241, 3756.319733549499, 3245.2340924029536, 2184.7916091220172], [985.0284166363092, 1795.7851428827503, 2499.5567765009955, 3070.004652220393, 3488.930950110285, 3742.656343680212, 3811.9124468459445, 3653.4544170876743, 3167.982137758825, 2142.2416070634918], [904.9743901289887, 1638.9245596093176, 2273.853887800951, 2788.542523856075, 3168.947086078114, 3403.940718659828, 3476.054553138179, 3345.1659042602923, 2918.812385728826, 1994.6179965559354], [784.134621241998, 1401.217946636499, 1929.6946422611384, 2355.722930697757, 2671.4415638888245, 2869.9812704312803, 2937.7042554265768, 2841.1544514135685, 2501.6638641603668, 1740.2424390901192], [621.7409004028648, 1081.6378440615492, 1467.3770589400895, 1774.6512843602677, 2002.4305667832684, 2148.268908883708, 2203.3061241280616, 2143.6387762249783, 1911.4439808565467, 1367.6075187448896], [413.38513209843984, 672.0267251744343, 879.7543207003665, 1042.197456347565, 1162.747303745653, 1241.5740578855787, 1274.464856741101, 1249.0332478885712, 1134.5812343761252, 852.2407189053188]]}],\n",
              "                        {\"template\": {\"data\": {\"bar\": [{\"error_x\": {\"color\": \"#2a3f5f\"}, \"error_y\": {\"color\": \"#2a3f5f\"}, \"marker\": {\"line\": {\"color\": \"#E5ECF6\", \"width\": 0.5}}, \"type\": \"bar\"}], \"barpolar\": [{\"marker\": {\"line\": {\"color\": \"#E5ECF6\", \"width\": 0.5}}, \"type\": \"barpolar\"}], \"carpet\": [{\"aaxis\": {\"endlinecolor\": \"#2a3f5f\", \"gridcolor\": \"white\", \"linecolor\": \"white\", \"minorgridcolor\": \"white\", \"startlinecolor\": \"#2a3f5f\"}, \"baxis\": {\"endlinecolor\": \"#2a3f5f\", \"gridcolor\": \"white\", \"linecolor\": \"white\", \"minorgridcolor\": \"white\", \"startlinecolor\": \"#2a3f5f\"}, \"type\": \"carpet\"}], \"choropleth\": [{\"colorbar\": {\"outlinewidth\": 0, \"ticks\": \"\"}, \"type\": \"choropleth\"}], \"contour\": [{\"colorbar\": {\"outlinewidth\": 0, \"ticks\": \"\"}, \"colorscale\": [[0.0, \"#0d0887\"], [0.1111111111111111, \"#46039f\"], [0.2222222222222222, \"#7201a8\"], [0.3333333333333333, \"#9c179e\"], [0.4444444444444444, \"#bd3786\"], [0.5555555555555556, \"#d8576b\"], [0.6666666666666666, \"#ed7953\"], [0.7777777777777778, \"#fb9f3a\"], [0.8888888888888888, \"#fdca26\"], [1.0, \"#f0f921\"]], \"type\": \"contour\"}], \"contourcarpet\": [{\"colorbar\": {\"outlinewidth\": 0, \"ticks\": \"\"}, \"type\": \"contourcarpet\"}], \"heatmap\": [{\"colorbar\": {\"outlinewidth\": 0, \"ticks\": \"\"}, \"colorscale\": [[0.0, \"#0d0887\"], [0.1111111111111111, \"#46039f\"], [0.2222222222222222, \"#7201a8\"], [0.3333333333333333, \"#9c179e\"], [0.4444444444444444, \"#bd3786\"], [0.5555555555555556, \"#d8576b\"], [0.6666666666666666, \"#ed7953\"], [0.7777777777777778, \"#fb9f3a\"], [0.8888888888888888, \"#fdca26\"], [1.0, \"#f0f921\"]], \"type\": \"heatmap\"}], \"heatmapgl\": [{\"colorbar\": {\"outlinewidth\": 0, \"ticks\": \"\"}, \"colorscale\": [[0.0, \"#0d0887\"], [0.1111111111111111, \"#46039f\"], [0.2222222222222222, \"#7201a8\"], [0.3333333333333333, \"#9c179e\"], [0.4444444444444444, \"#bd3786\"], [0.5555555555555556, \"#d8576b\"], [0.6666666666666666, \"#ed7953\"], [0.7777777777777778, \"#fb9f3a\"], [0.8888888888888888, \"#fdca26\"], [1.0, \"#f0f921\"]], \"type\": \"heatmapgl\"}], \"histogram\": [{\"marker\": {\"colorbar\": {\"outlinewidth\": 0, \"ticks\": \"\"}}, \"type\": \"histogram\"}], \"histogram2d\": [{\"colorbar\": {\"outlinewidth\": 0, \"ticks\": \"\"}, \"colorscale\": [[0.0, \"#0d0887\"], [0.1111111111111111, \"#46039f\"], [0.2222222222222222, \"#7201a8\"], [0.3333333333333333, \"#9c179e\"], [0.4444444444444444, \"#bd3786\"], [0.5555555555555556, \"#d8576b\"], [0.6666666666666666, \"#ed7953\"], [0.7777777777777778, \"#fb9f3a\"], [0.8888888888888888, \"#fdca26\"], [1.0, \"#f0f921\"]], \"type\": \"histogram2d\"}], \"histogram2dcontour\": [{\"colorbar\": {\"outlinewidth\": 0, \"ticks\": \"\"}, \"colorscale\": [[0.0, \"#0d0887\"], [0.1111111111111111, \"#46039f\"], [0.2222222222222222, \"#7201a8\"], [0.3333333333333333, \"#9c179e\"], [0.4444444444444444, \"#bd3786\"], [0.5555555555555556, \"#d8576b\"], [0.6666666666666666, \"#ed7953\"], [0.7777777777777778, \"#fb9f3a\"], [0.8888888888888888, \"#fdca26\"], [1.0, \"#f0f921\"]], \"type\": \"histogram2dcontour\"}], \"mesh3d\": [{\"colorbar\": {\"outlinewidth\": 0, \"ticks\": \"\"}, \"type\": \"mesh3d\"}], \"parcoords\": [{\"line\": {\"colorbar\": {\"outlinewidth\": 0, \"ticks\": \"\"}}, \"type\": \"parcoords\"}], \"pie\": [{\"automargin\": true, \"type\": \"pie\"}], \"scatter\": [{\"marker\": {\"colorbar\": {\"outlinewidth\": 0, \"ticks\": \"\"}}, \"type\": \"scatter\"}], \"scatter3d\": [{\"line\": {\"colorbar\": {\"outlinewidth\": 0, \"ticks\": \"\"}}, \"marker\": {\"colorbar\": {\"outlinewidth\": 0, \"ticks\": \"\"}}, \"type\": \"scatter3d\"}], \"scattercarpet\": [{\"marker\": {\"colorbar\": {\"outlinewidth\": 0, \"ticks\": \"\"}}, \"type\": \"scattercarpet\"}], \"scattergeo\": [{\"marker\": {\"colorbar\": {\"outlinewidth\": 0, \"ticks\": \"\"}}, \"type\": \"scattergeo\"}], \"scattergl\": [{\"marker\": {\"colorbar\": {\"outlinewidth\": 0, \"ticks\": \"\"}}, \"type\": \"scattergl\"}], \"scattermapbox\": [{\"marker\": {\"colorbar\": {\"outlinewidth\": 0, \"ticks\": \"\"}}, \"type\": \"scattermapbox\"}], \"scatterpolar\": [{\"marker\": {\"colorbar\": {\"outlinewidth\": 0, \"ticks\": \"\"}}, \"type\": \"scatterpolar\"}], \"scatterpolargl\": [{\"marker\": {\"colorbar\": {\"outlinewidth\": 0, \"ticks\": \"\"}}, \"type\": \"scatterpolargl\"}], \"scatterternary\": [{\"marker\": {\"colorbar\": {\"outlinewidth\": 0, \"ticks\": \"\"}}, \"type\": \"scatterternary\"}], \"surface\": [{\"colorbar\": {\"outlinewidth\": 0, \"ticks\": \"\"}, \"colorscale\": [[0.0, \"#0d0887\"], [0.1111111111111111, \"#46039f\"], [0.2222222222222222, \"#7201a8\"], [0.3333333333333333, \"#9c179e\"], [0.4444444444444444, \"#bd3786\"], [0.5555555555555556, \"#d8576b\"], [0.6666666666666666, \"#ed7953\"], [0.7777777777777778, \"#fb9f3a\"], [0.8888888888888888, \"#fdca26\"], [1.0, \"#f0f921\"]], \"type\": \"surface\"}], \"table\": [{\"cells\": {\"fill\": {\"color\": \"#EBF0F8\"}, \"line\": {\"color\": \"white\"}}, \"header\": {\"fill\": {\"color\": \"#C8D4E3\"}, \"line\": {\"color\": \"white\"}}, \"type\": \"table\"}]}, \"layout\": {\"annotationdefaults\": {\"arrowcolor\": \"#2a3f5f\", \"arrowhead\": 0, \"arrowwidth\": 1}, \"coloraxis\": {\"colorbar\": {\"outlinewidth\": 0, \"ticks\": \"\"}}, \"colorscale\": {\"diverging\": [[0, \"#8e0152\"], [0.1, \"#c51b7d\"], [0.2, \"#de77ae\"], [0.3, \"#f1b6da\"], [0.4, \"#fde0ef\"], [0.5, \"#f7f7f7\"], [0.6, \"#e6f5d0\"], [0.7, \"#b8e186\"], [0.8, \"#7fbc41\"], [0.9, \"#4d9221\"], [1, \"#276419\"]], \"sequential\": [[0.0, \"#0d0887\"], [0.1111111111111111, \"#46039f\"], [0.2222222222222222, \"#7201a8\"], [0.3333333333333333, \"#9c179e\"], [0.4444444444444444, \"#bd3786\"], [0.5555555555555556, \"#d8576b\"], [0.6666666666666666, \"#ed7953\"], [0.7777777777777778, \"#fb9f3a\"], [0.8888888888888888, \"#fdca26\"], [1.0, \"#f0f921\"]], \"sequentialminus\": [[0.0, \"#0d0887\"], [0.1111111111111111, \"#46039f\"], [0.2222222222222222, \"#7201a8\"], [0.3333333333333333, \"#9c179e\"], [0.4444444444444444, \"#bd3786\"], [0.5555555555555556, \"#d8576b\"], [0.6666666666666666, \"#ed7953\"], [0.7777777777777778, \"#fb9f3a\"], [0.8888888888888888, \"#fdca26\"], [1.0, \"#f0f921\"]]}, \"colorway\": [\"#636efa\", \"#EF553B\", \"#00cc96\", \"#ab63fa\", \"#FFA15A\", \"#19d3f3\", \"#FF6692\", \"#B6E880\", \"#FF97FF\", \"#FECB52\"], \"font\": {\"color\": \"#2a3f5f\"}, \"geo\": {\"bgcolor\": \"white\", \"lakecolor\": \"white\", \"landcolor\": \"#E5ECF6\", \"showlakes\": true, \"showland\": true, \"subunitcolor\": \"white\"}, \"hoverlabel\": {\"align\": \"left\"}, \"hovermode\": \"closest\", \"mapbox\": {\"style\": \"light\"}, \"paper_bgcolor\": \"white\", \"plot_bgcolor\": \"#E5ECF6\", \"polar\": {\"angularaxis\": {\"gridcolor\": \"white\", \"linecolor\": \"white\", \"ticks\": \"\"}, \"bgcolor\": \"#E5ECF6\", \"radialaxis\": {\"gridcolor\": \"white\", \"linecolor\": \"white\", \"ticks\": \"\"}}, \"scene\": {\"xaxis\": {\"backgroundcolor\": \"#E5ECF6\", \"gridcolor\": \"white\", \"gridwidth\": 2, \"linecolor\": \"white\", \"showbackground\": true, \"ticks\": \"\", \"zerolinecolor\": \"white\"}, \"yaxis\": {\"backgroundcolor\": \"#E5ECF6\", \"gridcolor\": \"white\", \"gridwidth\": 2, \"linecolor\": \"white\", \"showbackground\": true, \"ticks\": \"\", \"zerolinecolor\": \"white\"}, \"zaxis\": {\"backgroundcolor\": \"#E5ECF6\", \"gridcolor\": \"white\", \"gridwidth\": 2, \"linecolor\": \"white\", \"showbackground\": true, \"ticks\": \"\", \"zerolinecolor\": \"white\"}}, \"shapedefaults\": {\"line\": {\"color\": \"#2a3f5f\"}}, \"ternary\": {\"aaxis\": {\"gridcolor\": \"white\", \"linecolor\": \"white\", \"ticks\": \"\"}, \"baxis\": {\"gridcolor\": \"white\", \"linecolor\": \"white\", \"ticks\": \"\"}, \"bgcolor\": \"#E5ECF6\", \"caxis\": {\"gridcolor\": \"white\", \"linecolor\": \"white\", \"ticks\": \"\"}}, \"title\": {\"x\": 0.05}, \"xaxis\": {\"automargin\": true, \"gridcolor\": \"white\", \"linecolor\": \"white\", \"ticks\": \"\", \"title\": {\"standoff\": 15}, \"zerolinecolor\": \"white\", \"zerolinewidth\": 2}, \"yaxis\": {\"automargin\": true, \"gridcolor\": \"white\", \"linecolor\": \"white\", \"ticks\": \"\", \"title\": {\"standoff\": 15}, \"zerolinecolor\": \"white\", \"zerolinewidth\": 2}}}, \"xaxis\": {\"anchor\": \"y\", \"domain\": [0.0, 1.0]}, \"yaxis\": {\"anchor\": \"x\", \"domain\": [0.0, 1.0]}},\n",
              "                        {\"responsive\": true}\n",
              "                    ).then(function(){\n",
              "                            \n",
              "var gd = document.getElementById('117f2446-7a2f-45ea-be8b-25782dbed853');\n",
              "var x = new MutationObserver(function (mutations, observer) {{\n",
              "        var display = window.getComputedStyle(gd).display;\n",
              "        if (!display || display === 'none') {{\n",
              "            console.log([gd, 'removed!']);\n",
              "            Plotly.purge(gd);\n",
              "            observer.disconnect();\n",
              "        }}\n",
              "}});\n",
              "\n",
              "// Listen for the removal of the full notebook cells\n",
              "var notebookContainer = gd.closest('#notebook-container');\n",
              "if (notebookContainer) {{\n",
              "    x.observe(notebookContainer, {childList: true});\n",
              "}}\n",
              "\n",
              "// Listen for the clearing of the current output cell\n",
              "var outputEl = gd.closest('.output');\n",
              "if (outputEl) {{\n",
              "    x.observe(outputEl, {childList: true});\n",
              "}}\n",
              "\n",
              "                        })\n",
              "                };\n",
              "                \n",
              "            </script>\n",
              "        </div>\n",
              "</body>\n",
              "</html>"
            ]
          },
          "metadata": {}
        }
      ]
    },
    {
      "cell_type": "code",
      "metadata": {
        "id": "yzB6_dNgNW4K"
      },
      "source": [
        ""
      ],
      "execution_count": null,
      "outputs": []
    }
  ]
}