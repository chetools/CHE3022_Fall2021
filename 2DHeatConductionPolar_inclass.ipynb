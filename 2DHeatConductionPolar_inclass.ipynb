{
  "nbformat": 4,
  "nbformat_minor": 0,
  "metadata": {
    "colab": {
      "name": "2DHeatConductionPolar_inclass.ipynb",
      "provenance": [],
      "collapsed_sections": [],
      "authorship_tag": "ABX9TyM58ND8SJk/kv00hgloF2Kv",
      "include_colab_link": true
    },
    "kernelspec": {
      "name": "python3",
      "display_name": "Python 3"
    },
    "language_info": {
      "name": "python"
    }
  },
  "cells": [
    {
      "cell_type": "markdown",
      "metadata": {
        "id": "view-in-github",
        "colab_type": "text"
      },
      "source": [
        "<a href=\"https://colab.research.google.com/github/profteachkids/CHE3022_Fall2021/blob/main/2DHeatConductionPolar_inclass.ipynb\" target=\"_parent\"><img src=\"https://colab.research.google.com/assets/colab-badge.svg\" alt=\"Open In Colab\"/></a>"
      ]
    },
    {
      "cell_type": "code",
      "metadata": {
        "id": "EcqH3BfSF1Ch"
      },
      "source": [
        "import numpy as np\n",
        "from scipy.optimize import newton_krylov\n",
        "from plotly.subplots import make_subplots\n",
        "import plotly.graph_objects as go\n",
        "import plotly.io as pio\n",
        "pio.templates_default='plotly_dark'"
      ],
      "execution_count": 1,
      "outputs": []
    },
    {
      "cell_type": "code",
      "metadata": {
        "id": "idQHBz6LSbMP"
      },
      "source": [
        "rinner, router = 1., 4.\n",
        "thetalo, thetahi = 0, np.pi/2\n",
        "nr, ntheta = 10, 10\n",
        "dr, dtheta = (router-rinner)/(nr-1), (thetahi-thetalo)/(ntheta-1)\n",
        "theta, r = np.mgrid[thetalo:thetahi:ntheta*1j, rinner:router:nr*1j]\n",
        "x,y = r*np.cos(theta), r*np.sin(theta)"
      ],
      "execution_count": 2,
      "outputs": []
    },
    {
      "cell_type": "code",
      "metadata": {
        "id": "aySIZ700G4hc"
      },
      "source": [
        "Tinner, Touter = 130., 150.\n",
        "Tthetalo, Tthetahi = 100., 150.\n",
        "qk = 0"
      ],
      "execution_count": 3,
      "outputs": []
    },
    {
      "cell_type": "code",
      "metadata": {
        "id": "sFCO18cSIXWI"
      },
      "source": [
        "Tguess = np.full((nr,ntheta), np.mean(np.array([Tinner, Touter, Tthetalo, Tthetahi])))\n",
        "d2r = np.zeros_like(Tguess)\n",
        "d2theta = np.zeros_like(Tguess)"
      ],
      "execution_count": 4,
      "outputs": []
    },
    {
      "cell_type": "code",
      "metadata": {
        "id": "h0zSzxn_IYN6"
      },
      "source": [
        "def hde(T):\n",
        "    d2r[1:-1, :] = ((r[1:-1,:]+dr/2)*(T[2:,:] - T[1:-1,:]) - \n",
        "                    (r[1:-1,:]-dr/2)*(T[1:-1,:] - T[:-2,:]))/dr**2\n",
        "    d2r[0,:]= ((r[0,:]+dr/2)*(T[1,:] - T[0,:]) - \n",
        "                    (r[0,:]-dr/2)*(T[0,:] - Tinner))/dr**2\n",
        "    d2r[-1,:]=((r[-1,:]+dr/2)*(Touter - T[-1,:]) - \n",
        "                    (r[-1,:]-dr/2)*(T[-1,:] - T[-2,:]))/dr**2\n",
        "\n",
        "    d2theta[:,1:-1] = (T[:,2:] - 2*T[:,1:-1] + T[:,:-2])/dtheta**2 /r[:,1:-1]\n",
        "    d2theta[:,0]=(T[:,1] - 2*T[:,0] + Tthetalo)/dtheta**2/r[:,0]\n",
        "    d2theta[:,-1]=(Tthetahi - 2*T[:,-1] + T[:,-2])/dtheta**2/r[:,-1]\n",
        "\n",
        "    return d2r+d2theta+ qk*r"
      ],
      "execution_count": 5,
      "outputs": []
    },
    {
      "cell_type": "code",
      "metadata": {
        "id": "Hbefi2ALIk8k"
      },
      "source": [
        "sol = newton_krylov(hde, Tguess)"
      ],
      "execution_count": 6,
      "outputs": []
    },
    {
      "cell_type": "code",
      "metadata": {
        "colab": {
          "base_uri": "https://localhost:8080/",
          "height": 542
        },
        "id": "nK66Rg02Lu5n",
        "outputId": "12131020-a1f9-43ed-ef40-9cf05e422dd4"
      },
      "source": [
        "fig = make_subplots()\n",
        "fig.add_trace(go.Surface(x=x,y=y,z=sol))"
      ],
      "execution_count": 7,
      "outputs": [
        {
          "output_type": "display_data",
          "data": {
            "text/html": [
              "<html>\n",
              "<head><meta charset=\"utf-8\" /></head>\n",
              "<body>\n",
              "    <div>\n",
              "            <script src=\"https://cdnjs.cloudflare.com/ajax/libs/mathjax/2.7.5/MathJax.js?config=TeX-AMS-MML_SVG\"></script><script type=\"text/javascript\">if (window.MathJax) {MathJax.Hub.Config({SVG: {font: \"STIX-Web\"}});}</script>\n",
              "                <script type=\"text/javascript\">window.PlotlyConfig = {MathJaxConfig: 'local'};</script>\n",
              "        <script src=\"https://cdn.plot.ly/plotly-latest.min.js\"></script>    \n",
              "            <div id=\"ee2f4949-c4f5-49aa-b395-a53fb3bd448e\" class=\"plotly-graph-div\" style=\"height:525px; width:100%;\"></div>\n",
              "            <script type=\"text/javascript\">\n",
              "                \n",
              "                    window.PLOTLYENV=window.PLOTLYENV || {};\n",
              "                    \n",
              "                if (document.getElementById(\"ee2f4949-c4f5-49aa-b395-a53fb3bd448e\")) {\n",
              "                    Plotly.newPlot(\n",
              "                        'ee2f4949-c4f5-49aa-b395-a53fb3bd448e',\n",
              "                        [{\"type\": \"surface\", \"x\": [[1.0, 1.3333333333333333, 1.6666666666666665, 2.0, 2.333333333333333, 2.6666666666666665, 3.0, 3.333333333333333, 3.6666666666666665, 4.0], [0.984807753012208, 1.3130770040162774, 1.6413462550203466, 1.969615506024416, 2.297884757028485, 2.6261540080325547, 2.954423259036624, 3.282692510040693, 3.6109617610447624, 3.939231012048832], [0.9396926207859084, 1.252923494381211, 1.566154367976514, 1.8793852415718169, 2.1926161151671195, 2.505846988762422, 2.8190778623577253, 3.132308735953028, 3.4455396095483306, 3.7587704831436337], [0.8660254037844387, 1.1547005383792515, 1.4433756729740643, 1.7320508075688774, 2.0207259421636903, 2.309401076758503, 2.598076211353316, 2.8867513459481287, 3.1754264805429417, 3.464101615137755], [0.766044443118978, 1.0213925908253039, 1.2767407385316298, 1.532088886237956, 1.7874370339442818, 2.0427851816506077, 2.298133329356934, 2.5534814770632597, 2.808829624769586, 3.064177772475912], [0.6427876096865394, 0.8570501462487191, 1.0713126828108988, 1.2855752193730787, 1.4998377559352583, 1.7141002924974382, 1.9283628290596182, 2.1426253656217975, 2.3568879021839777, 2.5711504387461575], [0.5000000000000001, 0.6666666666666667, 0.8333333333333335, 1.0000000000000002, 1.1666666666666667, 1.3333333333333335, 1.5000000000000004, 1.666666666666667, 1.8333333333333337, 2.0000000000000004], [0.3420201433256688, 0.4560268577675584, 0.570033572209448, 0.6840402866513376, 0.7980470010932271, 0.9120537155351168, 1.0260604299770064, 1.140067144418896, 1.2540738588607856, 1.3680805733026753], [0.17364817766693041, 0.23153090355590722, 0.289413629444884, 0.34729635533386083, 0.4051790812228376, 0.46306180711181444, 0.5209445330007912, 0.578827258889768, 0.6367099847787449, 0.6945927106677217], [6.123233995736766e-17, 8.164311994315688e-17, 1.0205389992894609e-16, 1.2246467991473532e-16, 1.428754599005245e-16, 1.6328623988631375e-16, 1.8369701987210297e-16, 2.0410779985789218e-16, 2.245185798436814e-16, 2.4492935982947064e-16]], \"y\": [[0.0, 0.0, 0.0, 0.0, 0.0, 0.0, 0.0, 0.0, 0.0, 0.0], [0.17364817766693033, 0.2315309035559071, 0.28941362944488386, 0.34729635533386066, 0.4051790812228374, 0.4630618071118142, 0.520944533000791, 0.5788272588897677, 0.6367099847787445, 0.6945927106677213], [0.3420201433256687, 0.45602685776755825, 0.5700335722094478, 0.6840402866513374, 0.7980470010932269, 0.9120537155351165, 1.0260604299770062, 1.1400671444188957, 1.2540738588607852, 1.3680805733026749], [0.49999999999999994, 0.6666666666666665, 0.8333333333333331, 0.9999999999999999, 1.1666666666666663, 1.333333333333333, 1.4999999999999998, 1.6666666666666663, 1.833333333333333, 1.9999999999999998], [0.6427876096865393, 0.857050146248719, 1.0713126828108988, 1.2855752193730785, 1.499837755935258, 1.714100292497438, 1.9283628290596178, 2.1426253656217975, 2.3568879021839773, 2.571150438746157], [0.766044443118978, 1.0213925908253039, 1.2767407385316298, 1.532088886237956, 1.7874370339442818, 2.0427851816506077, 2.298133329356934, 2.5534814770632597, 2.808829624769586, 3.064177772475912], [0.8660254037844386, 1.1547005383792515, 1.443375672974064, 1.7320508075688772, 2.02072594216369, 2.309401076758503, 2.598076211353316, 2.886751345948128, 3.1754264805429413, 3.4641016151377544], [0.9396926207859083, 1.252923494381211, 1.5661543679765138, 1.8793852415718166, 2.192616115167119, 2.505846988762422, 2.819077862357725, 3.1323087359530275, 3.44553960954833, 3.7587704831436333], [0.984807753012208, 1.3130770040162774, 1.6413462550203466, 1.969615506024416, 2.297884757028485, 2.6261540080325547, 2.954423259036624, 3.282692510040693, 3.6109617610447624, 3.939231012048832], [1.0, 1.3333333333333333, 1.6666666666666665, 2.0, 2.333333333333333, 2.6666666666666665, 3.0, 3.333333333333333, 3.6666666666666665, 4.0]], \"z\": [[110.96993887758325, 118.66964380044163, 123.72682350157193, 127.03256071354699, 129.25269282931652, 130.7928700806088, 131.91617351050908, 132.86675820635529, 134.05599866150015, 136.86877724707048], [107.60136647403857, 114.67653260833043, 120.68500505346013, 125.43545344398633, 129.03019997290042, 131.69371369471847, 133.69696059284948, 135.385876533805, 137.33797677612614, 140.92982205328227], [106.84039929334354, 113.51619541186658, 119.69800783255077, 125.05686152548654, 129.41966938873722, 132.80732986110377, 135.41098501219554, 137.5827947325258, 139.90903462441185, 143.46702961141756], [106.81148025202398, 113.51462918057575, 119.87286979202774, 125.57493132402145, 130.3669657953872, 134.16842320378345, 137.1103945712812, 139.52220032736648, 141.93686899664445, 145.15017603036034], [107.12951977910016, 114.14244834999312, 120.79925095893842, 126.77930903659464, 131.8073603372221, 135.78431824596612, 138.8344780942418, 141.27600554671602, 143.58111499319836, 146.34051286520514], [107.72121121257462, 115.28024805688972, 122.36506143025863, 128.5997450301315, 133.7129472346727, 137.65753423647226, 140.61076591398873, 142.9054325426728, 144.9644904961884, 147.2386348470328], [108.65088329625519, 117.03008330302009, 124.66101959737736, 131.084115550587, 136.09518681599437, 139.7889641461325, 142.45293469559405, 144.4533386302361, 146.17175531544427, 147.95827697248987], [110.16434773871038, 119.755735663668, 127.98138751028931, 134.37484027730838, 138.98349367971767, 142.16679290476898, 144.3559699583122, 145.94198790202924, 147.25636664354502, 148.5644959733603], [113.03674250732804, 124.36649144033306, 132.8852357299431, 138.6616459959786, 142.37796185262846, 144.7448051247449, 146.29027105140355, 147.37378859845433, 148.2482857439856, 149.0943410386852], [120.42533818839938, 133.07929255454667, 140.17113025545657, 144.02301774032995, 146.16365468978074, 147.41605454293028, 148.19832843240889, 148.73457719214076, 149.1613320044782, 149.5687540124141]]}],\n",
              "                        {\"template\": {\"data\": {\"bar\": [{\"error_x\": {\"color\": \"#2a3f5f\"}, \"error_y\": {\"color\": \"#2a3f5f\"}, \"marker\": {\"line\": {\"color\": \"#E5ECF6\", \"width\": 0.5}}, \"type\": \"bar\"}], \"barpolar\": [{\"marker\": {\"line\": {\"color\": \"#E5ECF6\", \"width\": 0.5}}, \"type\": \"barpolar\"}], \"carpet\": [{\"aaxis\": {\"endlinecolor\": \"#2a3f5f\", \"gridcolor\": \"white\", \"linecolor\": \"white\", \"minorgridcolor\": \"white\", \"startlinecolor\": \"#2a3f5f\"}, \"baxis\": {\"endlinecolor\": \"#2a3f5f\", \"gridcolor\": \"white\", \"linecolor\": \"white\", \"minorgridcolor\": \"white\", \"startlinecolor\": \"#2a3f5f\"}, \"type\": \"carpet\"}], \"choropleth\": [{\"colorbar\": {\"outlinewidth\": 0, \"ticks\": \"\"}, \"type\": \"choropleth\"}], \"contour\": [{\"colorbar\": {\"outlinewidth\": 0, \"ticks\": \"\"}, \"colorscale\": [[0.0, \"#0d0887\"], [0.1111111111111111, \"#46039f\"], [0.2222222222222222, \"#7201a8\"], [0.3333333333333333, \"#9c179e\"], [0.4444444444444444, \"#bd3786\"], [0.5555555555555556, \"#d8576b\"], [0.6666666666666666, \"#ed7953\"], [0.7777777777777778, \"#fb9f3a\"], [0.8888888888888888, \"#fdca26\"], [1.0, \"#f0f921\"]], \"type\": \"contour\"}], \"contourcarpet\": [{\"colorbar\": {\"outlinewidth\": 0, \"ticks\": \"\"}, \"type\": \"contourcarpet\"}], \"heatmap\": [{\"colorbar\": {\"outlinewidth\": 0, \"ticks\": \"\"}, \"colorscale\": [[0.0, \"#0d0887\"], [0.1111111111111111, \"#46039f\"], [0.2222222222222222, \"#7201a8\"], [0.3333333333333333, \"#9c179e\"], [0.4444444444444444, \"#bd3786\"], [0.5555555555555556, \"#d8576b\"], [0.6666666666666666, \"#ed7953\"], [0.7777777777777778, \"#fb9f3a\"], [0.8888888888888888, \"#fdca26\"], [1.0, \"#f0f921\"]], \"type\": \"heatmap\"}], \"heatmapgl\": [{\"colorbar\": {\"outlinewidth\": 0, \"ticks\": \"\"}, \"colorscale\": [[0.0, \"#0d0887\"], [0.1111111111111111, \"#46039f\"], [0.2222222222222222, \"#7201a8\"], [0.3333333333333333, \"#9c179e\"], [0.4444444444444444, \"#bd3786\"], [0.5555555555555556, \"#d8576b\"], [0.6666666666666666, \"#ed7953\"], [0.7777777777777778, \"#fb9f3a\"], [0.8888888888888888, \"#fdca26\"], [1.0, \"#f0f921\"]], \"type\": \"heatmapgl\"}], \"histogram\": [{\"marker\": {\"colorbar\": {\"outlinewidth\": 0, \"ticks\": \"\"}}, \"type\": \"histogram\"}], \"histogram2d\": [{\"colorbar\": {\"outlinewidth\": 0, \"ticks\": \"\"}, \"colorscale\": [[0.0, \"#0d0887\"], [0.1111111111111111, \"#46039f\"], [0.2222222222222222, \"#7201a8\"], [0.3333333333333333, \"#9c179e\"], [0.4444444444444444, \"#bd3786\"], [0.5555555555555556, \"#d8576b\"], [0.6666666666666666, \"#ed7953\"], [0.7777777777777778, \"#fb9f3a\"], [0.8888888888888888, \"#fdca26\"], [1.0, \"#f0f921\"]], \"type\": \"histogram2d\"}], \"histogram2dcontour\": [{\"colorbar\": {\"outlinewidth\": 0, \"ticks\": \"\"}, \"colorscale\": [[0.0, \"#0d0887\"], [0.1111111111111111, \"#46039f\"], [0.2222222222222222, \"#7201a8\"], [0.3333333333333333, \"#9c179e\"], [0.4444444444444444, \"#bd3786\"], [0.5555555555555556, \"#d8576b\"], [0.6666666666666666, \"#ed7953\"], [0.7777777777777778, \"#fb9f3a\"], [0.8888888888888888, \"#fdca26\"], [1.0, \"#f0f921\"]], \"type\": \"histogram2dcontour\"}], \"mesh3d\": [{\"colorbar\": {\"outlinewidth\": 0, \"ticks\": \"\"}, \"type\": \"mesh3d\"}], \"parcoords\": [{\"line\": {\"colorbar\": {\"outlinewidth\": 0, \"ticks\": \"\"}}, \"type\": \"parcoords\"}], \"pie\": [{\"automargin\": true, \"type\": \"pie\"}], \"scatter\": [{\"marker\": {\"colorbar\": {\"outlinewidth\": 0, \"ticks\": \"\"}}, \"type\": \"scatter\"}], \"scatter3d\": [{\"line\": {\"colorbar\": {\"outlinewidth\": 0, \"ticks\": \"\"}}, \"marker\": {\"colorbar\": {\"outlinewidth\": 0, \"ticks\": \"\"}}, \"type\": \"scatter3d\"}], \"scattercarpet\": [{\"marker\": {\"colorbar\": {\"outlinewidth\": 0, \"ticks\": \"\"}}, \"type\": \"scattercarpet\"}], \"scattergeo\": [{\"marker\": {\"colorbar\": {\"outlinewidth\": 0, \"ticks\": \"\"}}, \"type\": \"scattergeo\"}], \"scattergl\": [{\"marker\": {\"colorbar\": {\"outlinewidth\": 0, \"ticks\": \"\"}}, \"type\": \"scattergl\"}], \"scattermapbox\": [{\"marker\": {\"colorbar\": {\"outlinewidth\": 0, \"ticks\": \"\"}}, \"type\": \"scattermapbox\"}], \"scatterpolar\": [{\"marker\": {\"colorbar\": {\"outlinewidth\": 0, \"ticks\": \"\"}}, \"type\": \"scatterpolar\"}], \"scatterpolargl\": [{\"marker\": {\"colorbar\": {\"outlinewidth\": 0, \"ticks\": \"\"}}, \"type\": \"scatterpolargl\"}], \"scatterternary\": [{\"marker\": {\"colorbar\": {\"outlinewidth\": 0, \"ticks\": \"\"}}, \"type\": \"scatterternary\"}], \"surface\": [{\"colorbar\": {\"outlinewidth\": 0, \"ticks\": \"\"}, \"colorscale\": [[0.0, \"#0d0887\"], [0.1111111111111111, \"#46039f\"], [0.2222222222222222, \"#7201a8\"], [0.3333333333333333, \"#9c179e\"], [0.4444444444444444, \"#bd3786\"], [0.5555555555555556, \"#d8576b\"], [0.6666666666666666, \"#ed7953\"], [0.7777777777777778, \"#fb9f3a\"], [0.8888888888888888, \"#fdca26\"], [1.0, \"#f0f921\"]], \"type\": \"surface\"}], \"table\": [{\"cells\": {\"fill\": {\"color\": \"#EBF0F8\"}, \"line\": {\"color\": \"white\"}}, \"header\": {\"fill\": {\"color\": \"#C8D4E3\"}, \"line\": {\"color\": \"white\"}}, \"type\": \"table\"}]}, \"layout\": {\"annotationdefaults\": {\"arrowcolor\": \"#2a3f5f\", \"arrowhead\": 0, \"arrowwidth\": 1}, \"coloraxis\": {\"colorbar\": {\"outlinewidth\": 0, \"ticks\": \"\"}}, \"colorscale\": {\"diverging\": [[0, \"#8e0152\"], [0.1, \"#c51b7d\"], [0.2, \"#de77ae\"], [0.3, \"#f1b6da\"], [0.4, \"#fde0ef\"], [0.5, \"#f7f7f7\"], [0.6, \"#e6f5d0\"], [0.7, \"#b8e186\"], [0.8, \"#7fbc41\"], [0.9, \"#4d9221\"], [1, \"#276419\"]], \"sequential\": [[0.0, \"#0d0887\"], [0.1111111111111111, \"#46039f\"], [0.2222222222222222, \"#7201a8\"], [0.3333333333333333, \"#9c179e\"], [0.4444444444444444, \"#bd3786\"], [0.5555555555555556, \"#d8576b\"], [0.6666666666666666, \"#ed7953\"], [0.7777777777777778, \"#fb9f3a\"], [0.8888888888888888, \"#fdca26\"], [1.0, \"#f0f921\"]], \"sequentialminus\": [[0.0, \"#0d0887\"], [0.1111111111111111, \"#46039f\"], [0.2222222222222222, \"#7201a8\"], [0.3333333333333333, \"#9c179e\"], [0.4444444444444444, \"#bd3786\"], [0.5555555555555556, \"#d8576b\"], [0.6666666666666666, \"#ed7953\"], [0.7777777777777778, \"#fb9f3a\"], [0.8888888888888888, \"#fdca26\"], [1.0, \"#f0f921\"]]}, \"colorway\": [\"#636efa\", \"#EF553B\", \"#00cc96\", \"#ab63fa\", \"#FFA15A\", \"#19d3f3\", \"#FF6692\", \"#B6E880\", \"#FF97FF\", \"#FECB52\"], \"font\": {\"color\": \"#2a3f5f\"}, \"geo\": {\"bgcolor\": \"white\", \"lakecolor\": \"white\", \"landcolor\": \"#E5ECF6\", \"showlakes\": true, \"showland\": true, \"subunitcolor\": \"white\"}, \"hoverlabel\": {\"align\": \"left\"}, \"hovermode\": \"closest\", \"mapbox\": {\"style\": \"light\"}, \"paper_bgcolor\": \"white\", \"plot_bgcolor\": \"#E5ECF6\", \"polar\": {\"angularaxis\": {\"gridcolor\": \"white\", \"linecolor\": \"white\", \"ticks\": \"\"}, \"bgcolor\": \"#E5ECF6\", \"radialaxis\": {\"gridcolor\": \"white\", \"linecolor\": \"white\", \"ticks\": \"\"}}, \"scene\": {\"xaxis\": {\"backgroundcolor\": \"#E5ECF6\", \"gridcolor\": \"white\", \"gridwidth\": 2, \"linecolor\": \"white\", \"showbackground\": true, \"ticks\": \"\", \"zerolinecolor\": \"white\"}, \"yaxis\": {\"backgroundcolor\": \"#E5ECF6\", \"gridcolor\": \"white\", \"gridwidth\": 2, \"linecolor\": \"white\", \"showbackground\": true, \"ticks\": \"\", \"zerolinecolor\": \"white\"}, \"zaxis\": {\"backgroundcolor\": \"#E5ECF6\", \"gridcolor\": \"white\", \"gridwidth\": 2, \"linecolor\": \"white\", \"showbackground\": true, \"ticks\": \"\", \"zerolinecolor\": \"white\"}}, \"shapedefaults\": {\"line\": {\"color\": \"#2a3f5f\"}}, \"ternary\": {\"aaxis\": {\"gridcolor\": \"white\", \"linecolor\": \"white\", \"ticks\": \"\"}, \"baxis\": {\"gridcolor\": \"white\", \"linecolor\": \"white\", \"ticks\": \"\"}, \"bgcolor\": \"#E5ECF6\", \"caxis\": {\"gridcolor\": \"white\", \"linecolor\": \"white\", \"ticks\": \"\"}}, \"title\": {\"x\": 0.05}, \"xaxis\": {\"automargin\": true, \"gridcolor\": \"white\", \"linecolor\": \"white\", \"ticks\": \"\", \"title\": {\"standoff\": 15}, \"zerolinecolor\": \"white\", \"zerolinewidth\": 2}, \"yaxis\": {\"automargin\": true, \"gridcolor\": \"white\", \"linecolor\": \"white\", \"ticks\": \"\", \"title\": {\"standoff\": 15}, \"zerolinecolor\": \"white\", \"zerolinewidth\": 2}}}, \"xaxis\": {\"anchor\": \"y\", \"domain\": [0.0, 1.0]}, \"yaxis\": {\"anchor\": \"x\", \"domain\": [0.0, 1.0]}},\n",
              "                        {\"responsive\": true}\n",
              "                    ).then(function(){\n",
              "                            \n",
              "var gd = document.getElementById('ee2f4949-c4f5-49aa-b395-a53fb3bd448e');\n",
              "var x = new MutationObserver(function (mutations, observer) {{\n",
              "        var display = window.getComputedStyle(gd).display;\n",
              "        if (!display || display === 'none') {{\n",
              "            console.log([gd, 'removed!']);\n",
              "            Plotly.purge(gd);\n",
              "            observer.disconnect();\n",
              "        }}\n",
              "}});\n",
              "\n",
              "// Listen for the removal of the full notebook cells\n",
              "var notebookContainer = gd.closest('#notebook-container');\n",
              "if (notebookContainer) {{\n",
              "    x.observe(notebookContainer, {childList: true});\n",
              "}}\n",
              "\n",
              "// Listen for the clearing of the current output cell\n",
              "var outputEl = gd.closest('.output');\n",
              "if (outputEl) {{\n",
              "    x.observe(outputEl, {childList: true});\n",
              "}}\n",
              "\n",
              "                        })\n",
              "                };\n",
              "                \n",
              "            </script>\n",
              "        </div>\n",
              "</body>\n",
              "</html>"
            ]
          },
          "metadata": {}
        }
      ]
    },
    {
      "cell_type": "code",
      "metadata": {
        "id": "yzB6_dNgNW4K"
      },
      "source": [
        ""
      ],
      "execution_count": null,
      "outputs": []
    }
  ]
}